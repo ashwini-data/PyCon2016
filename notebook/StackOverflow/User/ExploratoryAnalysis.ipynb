{
 "cells": [
  {
   "cell_type": "markdown",
   "metadata": {
    "collapsed": false,
    "slideshow": {
     "slide_type": "slide"
    }
   },
   "source": [
    "![Python Logo](../../assets/images/python-logo-master-v3-TM.png)\n",
    "\n",
    "# <center> Exploratory Data Analysis for StackOverflow User Data </center>\n",
    "### <center> Shagun Sodhani </center>"
   ]
  },
  {
   "cell_type": "code",
   "execution_count": 1,
   "metadata": {
    "collapsed": true,
    "slideshow": {
     "slide_type": "skip"
    }
   },
   "outputs": [],
   "source": [
    "# put in the name of the Stack Exchange Site which you want to analyse.\n",
    "data_source = \"StackOverflow\"\n",
    "data_type = \"User\"\n",
    "base_url = \"http://stackoverflow.com/users/\"\n",
    "local_user_data_path = \"../../data/\"+data_source+\"/\"+data_type\n",
    "use_local_datapath = True\n",
    "# If this is set to false, dbfs_data_path is used to read the data.\n",
    "dbfs_user_data_path = \"\"\n",
    "# dbfs_data_path is to be used when running the notebook on Databricks and data has been uploaded to dbfs. \n",
    "# For more details, refer https://github.com/shagunsodhani/PyCon2016"
   ]
  },
  {
   "cell_type": "markdown",
   "metadata": {
    "slideshow": {
     "slide_type": "slide"
    }
   },
   "source": [
    "### Before we dive into the code, lets see the script which I used to run the notebook."
   ]
  },
  {
   "cell_type": "code",
   "execution_count": 2,
   "metadata": {
    "collapsed": false,
    "slideshow": {
     "slide_type": "subslide"
    }
   },
   "outputs": [
    {
     "name": "stdout",
     "output_type": "stream",
     "text": [
      "PYSPARK_DRIVER_PYTHON=jupyter PYSPARK_DRIVER_PYTHON_OPTS=\"notebook\" $SPARK_HOME/bin/pyspark --master local[2]\r\n"
     ]
    }
   ],
   "source": [
    "!cat ../../run.sh"
   ]
  },
  {
   "cell_type": "markdown",
   "metadata": {
    "collapsed": false,
    "slideshow": {
     "slide_type": "subslide"
    }
   },
   "source": [
    "**PYSPARK_DRIVER_PYTHON=jupyter**\n",
    "\n",
    "This sets the driver as this Jupyter Notebook"
   ]
  },
  {
   "cell_type": "markdown",
   "metadata": {
    "collapsed": false,
    "slideshow": {
     "slide_type": "subslide"
    }
   },
   "source": [
    "**PYSPARK_DRIVER_PYTHON_OPTS=\"notebook\"**\n",
    "\n",
    "This is used to pass options when starting the Python driver"
   ]
  },
  {
   "cell_type": "markdown",
   "metadata": {
    "collapsed": false,
    "slideshow": {
     "slide_type": "subslide"
    }
   },
   "source": [
    "**$SPARK_HOME/bin/pyspark --master local[2]**\n",
    "\n",
    "This runs a pyspark shell in local mode with 2 executors."
   ]
  },
  {
   "cell_type": "markdown",
   "metadata": {
    "slideshow": {
     "slide_type": "slide"
    }
   },
   "source": [
    "## Let us begin"
   ]
  },
  {
   "cell_type": "markdown",
   "metadata": {
    "collapsed": false,
    "slideshow": {
     "slide_type": "subslide"
    }
   },
   "source": [
    "### We will import everything in one cell for the sake for reference."
   ]
  },
  {
   "cell_type": "code",
   "execution_count": 3,
   "metadata": {
    "collapsed": true,
    "slideshow": {
     "slide_type": "fragment"
    }
   },
   "outputs": [],
   "source": [
    "import pyspark.sql.functions as func\n",
    "import matplotlib.pyplot as plt\n",
    "import seaborn as sns\n",
    "from pyspark.mllib.stat import Statistics\n",
    "from pyspark.mllib.linalg import Vectors\n",
    "import pandas as pd\n",
    "from time import time\n",
    "import operator\n",
    "%matplotlib inline\n",
    "from __future__ import print_function"
   ]
  },
  {
   "cell_type": "markdown",
   "metadata": {
    "collapsed": false,
    "slideshow": {
     "slide_type": "slide"
    }
   },
   "source": [
    "### Notice that we did not import sparkContext or sqlContext. They are already created for us to use."
   ]
  },
  {
   "cell_type": "markdown",
   "metadata": {
    "collapsed": false,
    "slideshow": {
     "slide_type": "subslide"
    }
   },
   "source": [
    "### Check if SparkContext and SQLContext have been created."
   ]
  },
  {
   "cell_type": "code",
   "execution_count": 4,
   "metadata": {
    "collapsed": false,
    "slideshow": {
     "slide_type": "fragment"
    }
   },
   "outputs": [
    {
     "name": "stdout",
     "output_type": "stream",
     "text": [
      "SparkContext is defined.\n"
     ]
    }
   ],
   "source": [
    "if('sc' in locals() or 'sc' in globals()):\n",
    "    print(\"SparkContext is defined.\")\n",
    "else:\n",
    "    print(\"SparkContext does not exist.\")"
   ]
  },
  {
   "cell_type": "code",
   "execution_count": 5,
   "metadata": {
    "collapsed": false,
    "slideshow": {
     "slide_type": "fragment"
    }
   },
   "outputs": [
    {
     "name": "stdout",
     "output_type": "stream",
     "text": [
      "SQLContext is defined.\n"
     ]
    }
   ],
   "source": [
    "if('sqlContext' in locals() or 'sqlContext' in globals()):\n",
    "    print(\"SQLContext is defined.\")\n",
    "else:\n",
    "    print(\"SQLContext does not exist.\")"
   ]
  },
  {
   "cell_type": "markdown",
   "metadata": {
    "collapsed": false,
    "slideshow": {
     "slide_type": "slide"
    }
   },
   "source": [
    "### Now let us load the user data as a dataframe. Since we will be using this data more than once, we will cache it in memory."
   ]
  },
  {
   "cell_type": "code",
   "execution_count": 6,
   "metadata": {
    "collapsed": false,
    "slideshow": {
     "slide_type": "subslide"
    }
   },
   "outputs": [
    {
     "name": "stdout",
     "output_type": "stream",
     "text": [
      "data_source = StackOverflow\n",
      "data_type = User\n",
      "user_data_path = ../../data/StackOverflow/User\n",
      "Time taken = 20.1194429398 seconds.\n"
     ]
    }
   ],
   "source": [
    "start_time = time()\n",
    "print (\"data_source =\", data_source)\n",
    "print (\"data_type =\", data_type)\n",
    "if(use_local_datapath):\n",
    "    user_data_path = local_user_data_path\n",
    "else:\n",
    "    user_data_path = dbfs_user_data_path\n",
    "print (\"user_data_path =\", user_data_path)\n",
    "user_df = sqlContext.read.load(user_data_path).cache()\n",
    "print (\"Time taken =\", time() - start_time, \"seconds.\")"
   ]
  },
  {
   "cell_type": "markdown",
   "metadata": {
    "collapsed": false,
    "slideshow": {
     "slide_type": "fragment"
    }
   },
   "source": [
    "### *sqlContext.read.load(user_data_path)* tells the master to load the data written in *user_data_path* as a parquet file (default choice for data format)."
   ]
  },
  {
   "cell_type": "markdown",
   "metadata": {
    "collapsed": false,
    "slideshow": {
     "slide_type": "fragment"
    }
   },
   "source": [
    "### *cache()* tells the master to cache the data in the main memory for faster operations."
   ]
  },
  {
   "cell_type": "markdown",
   "metadata": {
    "collapsed": false,
    "slideshow": {
     "slide_type": "slide"
    }
   },
   "source": [
    "## <center> DataFrame </center>"
   ]
  },
  {
   "cell_type": "markdown",
   "metadata": {
    "collapsed": false,
    "slideshow": {
     "slide_type": "subslide"
    }
   },
   "source": [
    "### A DataFrame is a distributed collection of data organized into named columns. It is conceptually equivalent to a table in a relational database or a data frame in R/Python, but with richer optimizations under the hood."
   ]
  },
  {
   "cell_type": "markdown",
   "metadata": {
    "collapsed": false,
    "slideshow": {
     "slide_type": "subslide"
    }
   },
   "source": [
    "### Since DataFrame organizes the data into a relational view (rows and columns), it has a schema associated with it."
   ]
  },
  {
   "cell_type": "code",
   "execution_count": 7,
   "metadata": {
    "collapsed": false,
    "slideshow": {
     "slide_type": "fragment"
    }
   },
   "outputs": [
    {
     "name": "stdout",
     "output_type": "stream",
     "text": [
      "Schema for user dataframe\n",
      "root\n",
      " |-- Id: long (nullable = true)\n",
      " |-- Reputation: long (nullable = true)\n",
      " |-- CreationDate: string (nullable = true)\n",
      " |-- DisplayName: string (nullable = true)\n",
      " |-- EmailHash: string (nullable = true)\n",
      " |-- lastAccessDate: string (nullable = true)\n",
      " |-- WebsiteUrl: string (nullable = true)\n",
      " |-- Location: string (nullable = true)\n",
      " |-- Age: long (nullable = true)\n",
      " |-- AboutMe: string (nullable = true)\n",
      " |-- Views: long (nullable = true)\n",
      " |-- UpVotes: long (nullable = true)\n",
      " |-- DownVotes: long (nullable = true)\n",
      " |-- AccountId: long (nullable = true)\n",
      "\n"
     ]
    }
   ],
   "source": [
    "print(\"Schema for user dataframe\")\n",
    "user_df.printSchema()"
   ]
  },
  {
   "cell_type": "markdown",
   "metadata": {
    "slideshow": {
     "slide_type": "slide"
    }
   },
   "source": [
    "### Some common metrics for this data"
   ]
  },
  {
   "cell_type": "code",
   "execution_count": 8,
   "metadata": {
    "collapsed": false,
    "slideshow": {
     "slide_type": "subslide"
    }
   },
   "outputs": [
    {
     "name": "stdout",
     "output_type": "stream",
     "text": [
      "Total number of rows in the data = 5677258\n"
     ]
    }
   ],
   "source": [
    "number_of_rows = user_df.count()\n",
    "print(\"Total number of rows in the data = \" + str(number_of_rows))"
   ]
  },
  {
   "cell_type": "code",
   "execution_count": 9,
   "metadata": {
    "collapsed": false,
    "slideshow": {
     "slide_type": "fragment"
    }
   },
   "outputs": [
    {
     "name": "stdout",
     "output_type": "stream",
     "text": [
      "Total number of unique Id in the data = 5677258\n"
     ]
    }
   ],
   "source": [
    "number_of_unique_ids = user_df.select('Id').distinct().count()\n",
    "print(\"Total number of unique Id in the data = \" + str(number_of_unique_ids))"
   ]
  },
  {
   "cell_type": "code",
   "execution_count": 10,
   "metadata": {
    "collapsed": false,
    "slideshow": {
     "slide_type": "fragment"
    }
   },
   "outputs": [
    {
     "name": "stdout",
     "output_type": "stream",
     "text": [
      "Maximum reputation for a user = 872346\n"
     ]
    }
   ],
   "source": [
    "max_reputation = user_df.agg({\"Reputation\": \"max\"}).collect()[0][0]\n",
    "print(\"Maximum reputation for a user = \" + str(max_reputation))"
   ]
  },
  {
   "cell_type": "code",
   "execution_count": 11,
   "metadata": {
    "collapsed": false,
    "slideshow": {
     "slide_type": "fragment"
    }
   },
   "outputs": [
    {
     "name": "stdout",
     "output_type": "stream",
     "text": [
      "Maximum UpVotes for a user = 155541\n"
     ]
    }
   ],
   "source": [
    "max_upvotes = user_df.agg({\"UpVotes\": \"max\"}).collect()[0][0]\n",
    "print(\"Maximum UpVotes for a user = \" + str(max_upvotes))"
   ]
  },
  {
   "cell_type": "markdown",
   "metadata": {
    "slideshow": {
     "slide_type": "slide"
    }
   },
   "source": [
    "### Alternatively, we could use the *describe* method to get all these statistics in one go."
   ]
  },
  {
   "cell_type": "code",
   "execution_count": 12,
   "metadata": {
    "collapsed": false,
    "slideshow": {
     "slide_type": "fragment"
    }
   },
   "outputs": [
    {
     "data": {
      "text/html": [
       "<div>\n",
       "<table border=\"1\" class=\"dataframe\">\n",
       "  <thead>\n",
       "    <tr style=\"text-align: right;\">\n",
       "      <th></th>\n",
       "      <th>summary</th>\n",
       "      <th>Id</th>\n",
       "      <th>Reputation</th>\n",
       "      <th>Age</th>\n",
       "      <th>Views</th>\n",
       "      <th>UpVotes</th>\n",
       "      <th>DownVotes</th>\n",
       "      <th>AccountId</th>\n",
       "    </tr>\n",
       "  </thead>\n",
       "  <tbody>\n",
       "    <tr>\n",
       "      <th>0</th>\n",
       "      <td>count</td>\n",
       "      <td>5677258</td>\n",
       "      <td>5677258</td>\n",
       "      <td>5677258</td>\n",
       "      <td>5677258</td>\n",
       "      <td>5677258</td>\n",
       "      <td>5677258</td>\n",
       "      <td>5677258</td>\n",
       "    </tr>\n",
       "    <tr>\n",
       "      <th>1</th>\n",
       "      <td>mean</td>\n",
       "      <td>3458959.329377492</td>\n",
       "      <td>122.36497495798147</td>\n",
       "      <td>2.1128550085270037</td>\n",
       "      <td>14.985955015607887</td>\n",
       "      <td>13.056719106300964</td>\n",
       "      <td>1.5714251492533895</td>\n",
       "      <td>4239436.648318959</td>\n",
       "    </tr>\n",
       "    <tr>\n",
       "      <th>2</th>\n",
       "      <td>stddev</td>\n",
       "      <td>1775717.819577991</td>\n",
       "      <td>2178.7325223376183</td>\n",
       "      <td>9.808645948617777</td>\n",
       "      <td>621.4858576805434</td>\n",
       "      <td>157.4016433378767</td>\n",
       "      <td>296.28945574718387</td>\n",
       "      <td>2463450.0689051063</td>\n",
       "    </tr>\n",
       "    <tr>\n",
       "      <th>3</th>\n",
       "      <td>min</td>\n",
       "      <td>-1</td>\n",
       "      <td>1</td>\n",
       "      <td>-972</td>\n",
       "      <td>0</td>\n",
       "      <td>0</td>\n",
       "      <td>0</td>\n",
       "      <td>-2</td>\n",
       "    </tr>\n",
       "    <tr>\n",
       "      <th>4</th>\n",
       "      <td>max</td>\n",
       "      <td>6455148</td>\n",
       "      <td>872346</td>\n",
       "      <td>96</td>\n",
       "      <td>1190669</td>\n",
       "      <td>155541</td>\n",
       "      <td>683400</td>\n",
       "      <td>8619800</td>\n",
       "    </tr>\n",
       "  </tbody>\n",
       "</table>\n",
       "</div>"
      ],
      "text/plain": [
       "  summary                 Id          Reputation                 Age  \\\n",
       "0   count            5677258             5677258             5677258   \n",
       "1    mean  3458959.329377492  122.36497495798147  2.1128550085270037   \n",
       "2  stddev  1775717.819577991  2178.7325223376183   9.808645948617777   \n",
       "3     min                 -1                   1                -972   \n",
       "4     max            6455148              872346                  96   \n",
       "\n",
       "                Views             UpVotes           DownVotes  \\\n",
       "0             5677258             5677258             5677258   \n",
       "1  14.985955015607887  13.056719106300964  1.5714251492533895   \n",
       "2   621.4858576805434   157.4016433378767  296.28945574718387   \n",
       "3                   0                   0                   0   \n",
       "4             1190669              155541              683400   \n",
       "\n",
       "            AccountId  \n",
       "0             5677258  \n",
       "1   4239436.648318959  \n",
       "2  2463450.0689051063  \n",
       "3                  -2  \n",
       "4             8619800  "
      ]
     },
     "execution_count": 12,
     "metadata": {},
     "output_type": "execute_result"
    }
   ],
   "source": [
    "user_df.describe().toPandas()"
   ]
  },
  {
   "cell_type": "markdown",
   "metadata": {
    "slideshow": {
     "slide_type": "fragment"
    }
   },
   "source": [
    "### Disclaimer - Pandas is used only for visualising the processed data in tabular form as Jupyter notebooks visualise Pandas dataframes very nicely. All the processing is being done by Spark."
   ]
  },
  {
   "cell_type": "markdown",
   "metadata": {
    "slideshow": {
     "slide_type": "slide"
    }
   },
   "source": [
    "### Let us find the user who has the highest reputation."
   ]
  },
  {
   "cell_type": "code",
   "execution_count": 13,
   "metadata": {
    "collapsed": false,
    "slideshow": {
     "slide_type": "fragment"
    }
   },
   "outputs": [
    {
     "data": {
      "text/html": [
       "<div>\n",
       "<table border=\"1\" class=\"dataframe\">\n",
       "  <thead>\n",
       "    <tr style=\"text-align: right;\">\n",
       "      <th></th>\n",
       "      <th>Id</th>\n",
       "      <th>Reputation</th>\n",
       "      <th>CreationDate</th>\n",
       "      <th>DisplayName</th>\n",
       "      <th>EmailHash</th>\n",
       "      <th>lastAccessDate</th>\n",
       "      <th>WebsiteUrl</th>\n",
       "      <th>Location</th>\n",
       "      <th>Age</th>\n",
       "      <th>AboutMe</th>\n",
       "      <th>Views</th>\n",
       "      <th>UpVotes</th>\n",
       "      <th>DownVotes</th>\n",
       "      <th>AccountId</th>\n",
       "    </tr>\n",
       "  </thead>\n",
       "  <tbody>\n",
       "    <tr>\n",
       "      <th>0</th>\n",
       "      <td>22656</td>\n",
       "      <td>872346</td>\n",
       "      <td>2008-09-26T12:05:05.150</td>\n",
       "      <td>Jon Skeet</td>\n",
       "      <td></td>\n",
       "      <td>2016-06-11T17:54:35.587</td>\n",
       "      <td>http://csharpindepth.com</td>\n",
       "      <td>Reading, United Kingdom</td>\n",
       "      <td>40</td>\n",
       "      <td>&lt;p&gt;\\nAuthor of &lt;a href=\"http://www.manning.com...</td>\n",
       "      <td>1190669</td>\n",
       "      <td>15469</td>\n",
       "      <td>5013</td>\n",
       "      <td>11683</td>\n",
       "    </tr>\n",
       "  </tbody>\n",
       "</table>\n",
       "</div>"
      ],
      "text/plain": [
       "      Id  Reputation             CreationDate DisplayName EmailHash  \\\n",
       "0  22656      872346  2008-09-26T12:05:05.150   Jon Skeet             \n",
       "\n",
       "            lastAccessDate                WebsiteUrl                 Location  \\\n",
       "0  2016-06-11T17:54:35.587  http://csharpindepth.com  Reading, United Kingdom   \n",
       "\n",
       "   Age                                            AboutMe    Views  UpVotes  \\\n",
       "0   40  <p>\\nAuthor of <a href=\"http://www.manning.com...  1190669    15469   \n",
       "\n",
       "   DownVotes  AccountId  \n",
       "0       5013      11683  "
      ]
     },
     "execution_count": 13,
     "metadata": {},
     "output_type": "execute_result"
    }
   ],
   "source": [
    "user_max_reputation = user_df.filter(\"Reputation = \"+str(max_reputation)).select('Id').collect()[0][0]\n",
    "user_df.filter(\"Reputation = \"+str(max_reputation)).toPandas()"
   ]
  },
  {
   "cell_type": "markdown",
   "metadata": {
    "slideshow": {
     "slide_type": "slide"
    }
   },
   "source": [
    "##  <center> Lazy Evaluation </center>"
   ]
  },
  {
   "cell_type": "markdown",
   "metadata": {
    "slideshow": {
     "slide_type": "fragment"
    }
   },
   "source": [
    "Spark Dataframes and RDDs are lazy. They do nothing unless an action is called. We can keep adding as many transformations as we want but nothing actually happens till we call an action. By deferring evaluations, Spark can optimise the overall workflow as it evaluates only that which is needed and only when it is needed."
   ]
  },
  {
   "cell_type": "code",
   "execution_count": 14,
   "metadata": {
    "collapsed": false,
    "slideshow": {
     "slide_type": "subslide"
    }
   },
   "outputs": [
    {
     "name": "stdout",
     "output_type": "stream",
     "text": [
      "DataFrame[Id: bigint, Reputation: bigint, CreationDate: string, DisplayName: string, EmailHash: string, lastAccessDate: string, WebsiteUrl: string, Location: string, Age: bigint, AboutMe: string, Views: bigint, UpVotes: bigint, DownVotes: bigint, AccountId: bigint]\n",
      "Time taken = 0.0228841304779 seconds.\n"
     ]
    }
   ],
   "source": [
    "start_time = time()\n",
    "user_max_reputation = user_df.orderBy(\"Reputation\", desc=True)\n",
    "print (user_max_reputation)\n",
    "print (\"Time taken =\", time() - start_time, \"seconds.\")"
   ]
  },
  {
   "cell_type": "code",
   "execution_count": 15,
   "metadata": {
    "collapsed": false,
    "slideshow": {
     "slide_type": "fragment"
    }
   },
   "outputs": [
    {
     "name": "stdout",
     "output_type": "stream",
     "text": [
      "This command crashes.\n"
     ]
    }
   ],
   "source": [
    "start_time = time()\n",
    "# list_user_max_reputation = user_df.orderBy(\"Reputation\", desc=True).collect()\n",
    "print (\"This command crashes.\")\n",
    "# print (\"Time taken =\", time() - start_time, \"seconds.\")"
   ]
  },
  {
   "cell_type": "code",
   "execution_count": 16,
   "metadata": {
    "collapsed": false,
    "slideshow": {
     "slide_type": "fragment"
    }
   },
   "outputs": [
    {
     "name": "stdout",
     "output_type": "stream",
     "text": [
      "Size of list = 1\n",
      "Time taken = 29.2843821049 seconds.\n"
     ]
    }
   ],
   "source": [
    "start_time = time()\n",
    "list_user_max_reputation = user_df.orderBy(\"Reputation\", desc=True).take(1)\n",
    "print (\"Size of list =\",len(list_user_max_reputation))\n",
    "print (\"Time taken =\", time() - start_time, \"seconds.\")"
   ]
  },
  {
   "cell_type": "markdown",
   "metadata": {
    "slideshow": {
     "slide_type": "subslide"
    }
   },
   "source": [
    "### Lazy is better than eager."
   ]
  },
  {
   "cell_type": "markdown",
   "metadata": {
    "slideshow": {
     "slide_type": "slide"
    }
   },
   "source": [
    "### We can find the user with maximum number of upvotes, downvotes and views."
   ]
  },
  {
   "cell_type": "code",
   "execution_count": 17,
   "metadata": {
    "collapsed": false,
    "slideshow": {
     "slide_type": "subslide"
    }
   },
   "outputs": [
    {
     "name": "stdout",
     "output_type": "stream",
     "text": [
      "max Reputation value = 872346 for userId = 22656  http://stackoverflow.com/users/22656 \n",
      "\n",
      "max UpVotes value = 155541 for userId = -1  http://stackoverflow.com/users/-1 \n",
      "\n",
      "max DownVotes value = 683400 for userId = -1  http://stackoverflow.com/users/-1 \n",
      "\n",
      "max Views value = 1190669 for userId = 22656  http://stackoverflow.com/users/22656 \n",
      "\n",
      "max Age value = 96 for userId = 4379582  http://stackoverflow.com/users/4379582 \n",
      "\n",
      "Time taken = 40.7793471813 seconds.\n"
     ]
    }
   ],
   "source": [
    "start_time = time() \n",
    "column_list = [\"Reputation\", \"UpVotes\", \"DownVotes\", \"Views\", \"Age\"]\n",
    "\n",
    "for col in column_list:\n",
    "    max_value_col = user_df.orderBy(col, ascending=False).select(\"Id\", col).take(1)[0]\n",
    "    userId = str(max_value_col[0])\n",
    "    print (\"max\", col, \"value =\",str(max_value_col[1]),\"for userId =\", userId, \"\", base_url+userId, \"\\n\")\n",
    "print (\"Time taken =\", time() - start_time, \"seconds.\")"
   ]
  },
  {
   "cell_type": "markdown",
   "metadata": {
    "slideshow": {
     "slide_type": "fragment"
    }
   },
   "source": [
    "### Interestingly, the user with most repuatation is also the most viewed user. The userId = -1 corresponds to community (bot) user which helps in moderation."
   ]
  },
  {
   "cell_type": "markdown",
   "metadata": {
    "slideshow": {
     "slide_type": "slide"
    }
   },
   "source": [
    "###  Before using any algorithm from Spark Machine Learning (ml and MLlib), we transform this data to a collection of vectors. While parsing the raw xml files, I used certain default values (in place of missing values). We will filter those values now."
   ]
  },
  {
   "cell_type": "code",
   "execution_count": 18,
   "metadata": {
    "collapsed": false,
    "slideshow": {
     "slide_type": "subslide"
    }
   },
   "outputs": [],
   "source": [
    "filter_expression = \"AccountId > -1 and DownVotes > -1 and UpVotes > -1 and \\\n",
    "Views > -1 and Reputation > -9223372036854775808 and Age > 0\"\n",
    "vectorData = user_df.filter(filter_expression)\\\n",
    ".select(column_list)\\\n",
    ".map(lambda data: Vectors.dense([c for c in data]))"
   ]
  },
  {
   "cell_type": "markdown",
   "metadata": {
    "slideshow": {
     "slide_type": "fragment"
    }
   },
   "source": [
    "### *vectorData* consists of rows, where each row is a vector of data we selected above. "
   ]
  },
  {
   "cell_type": "code",
   "execution_count": 19,
   "metadata": {
    "collapsed": false,
    "slideshow": {
     "slide_type": "fragment"
    }
   },
   "outputs": [
    {
     "name": "stdout",
     "output_type": "stream",
     "text": [
      "PythonRDD[118] at RDD at PythonRDD.scala:43\n"
     ]
    },
    {
     "data": {
      "text/plain": [
       "[DenseVector([11.0, 0.0, 0.0, 5.0, 29.0]),\n",
       " DenseVector([21.0, 1.0, 0.0, 9.0, 34.0]),\n",
       " DenseVector([1.0, 0.0, 0.0, 0.0, 27.0]),\n",
       " DenseVector([336.0, 7.0, 1.0, 67.0, 20.0]),\n",
       " DenseVector([119.0, 17.0, 0.0, 23.0, 25.0])]"
      ]
     },
     "execution_count": 19,
     "metadata": {},
     "output_type": "execute_result"
    }
   ],
   "source": [
    "print (vectorData)\n",
    "vectorData.take(5)"
   ]
  },
  {
   "cell_type": "markdown",
   "metadata": {
    "slideshow": {
     "slide_type": "slide"
    }
   },
   "source": [
    "### Calculating basic statistics about the data"
   ]
  },
  {
   "cell_type": "code",
   "execution_count": 20,
   "metadata": {
    "collapsed": false,
    "slideshow": {
     "slide_type": "fragment"
    }
   },
   "outputs": [
    {
     "name": "stdout",
     "output_type": "stream",
     "text": [
      "Columns in vectorData are ['Reputation', 'UpVotes', 'DownVotes', 'Views', 'Age']\n",
      "Average  Reputation  =  657.790010956\n",
      "Average  UpVotes  =  71.3291876684\n",
      "Average  DownVotes  =  8.45428023762\n",
      "Average  Views  =  79.1855292626\n",
      "Average  Age  =  30.6904020327\n"
     ]
    }
   ],
   "source": [
    "print (\"Columns in vectorData are\",column_list)\n",
    "stats = Statistics.colStats(vectorData)\n",
    "for col, val in zip(column_list, stats.mean()):\n",
    "    print (\"Average \", col, \" = \", val)"
   ]
  },
  {
   "cell_type": "markdown",
   "metadata": {
    "slideshow": {
     "slide_type": "subslide"
    }
   },
   "source": [
    "Other supported statistics include:\n",
    "    * count()\n",
    "    * max()\n",
    "    * mean()\n",
    "    * min()\n",
    "    * normL1()\n",
    "    * normL2()\n",
    "    * numNonzeros()\n",
    "    * variance()"
   ]
  },
  {
   "cell_type": "markdown",
   "metadata": {
    "slideshow": {
     "slide_type": "subslide"
    }
   },
   "source": [
    "For the sake of completeness, we will try all these methods. We would visualise this data as Pandas dataframe to make it look clean"
   ]
  },
  {
   "cell_type": "code",
   "execution_count": 21,
   "metadata": {
    "collapsed": false,
    "scrolled": true,
    "slideshow": {
     "slide_type": "fragment"
    }
   },
   "outputs": [
    {
     "data": {
      "text/html": [
       "<div>\n",
       "<table border=\"1\" class=\"dataframe\">\n",
       "  <thead>\n",
       "    <tr style=\"text-align: right;\">\n",
       "      <th></th>\n",
       "      <th>Reputation</th>\n",
       "      <th>UpVotes</th>\n",
       "      <th>DownVotes</th>\n",
       "      <th>Views</th>\n",
       "      <th>Age</th>\n",
       "    </tr>\n",
       "  </thead>\n",
       "  <tbody>\n",
       "    <tr>\n",
       "      <th>Count</th>\n",
       "      <td>5.576910e+05</td>\n",
       "      <td>557691.000000</td>\n",
       "      <td>557691.000000</td>\n",
       "      <td>557691.000000</td>\n",
       "      <td>557691.000000</td>\n",
       "    </tr>\n",
       "    <tr>\n",
       "      <th>Max</th>\n",
       "      <td>8.723460e+05</td>\n",
       "      <td>32254.000000</td>\n",
       "      <td>35993.000000</td>\n",
       "      <td>1190669.000000</td>\n",
       "      <td>96.000000</td>\n",
       "    </tr>\n",
       "    <tr>\n",
       "      <th>Mean</th>\n",
       "      <td>6.577900e+02</td>\n",
       "      <td>71.329188</td>\n",
       "      <td>8.454280</td>\n",
       "      <td>79.185529</td>\n",
       "      <td>30.690402</td>\n",
       "    </tr>\n",
       "    <tr>\n",
       "      <th>Min</th>\n",
       "      <td>1.000000e+00</td>\n",
       "      <td>0.000000</td>\n",
       "      <td>0.000000</td>\n",
       "      <td>0.000000</td>\n",
       "      <td>6.000000</td>\n",
       "    </tr>\n",
       "    <tr>\n",
       "      <th>NormL1</th>\n",
       "      <td>3.668436e+08</td>\n",
       "      <td>39779646.000000</td>\n",
       "      <td>4714876.000000</td>\n",
       "      <td>44161057.000000</td>\n",
       "      <td>17115761.000000</td>\n",
       "    </tr>\n",
       "    <tr>\n",
       "      <th>NormL2</th>\n",
       "      <td>4.349657e+06</td>\n",
       "      <td>269943.715556</td>\n",
       "      <td>129143.308685</td>\n",
       "      <td>1417240.092318</td>\n",
       "      <td>23779.951114</td>\n",
       "    </tr>\n",
       "    <tr>\n",
       "      <th>NumNonzeros</th>\n",
       "      <td>5.576910e+05</td>\n",
       "      <td>246964.000000</td>\n",
       "      <td>102515.000000</td>\n",
       "      <td>424885.000000</td>\n",
       "      <td>557691.000000</td>\n",
       "    </tr>\n",
       "    <tr>\n",
       "      <th>Variance</th>\n",
       "      <td>3.349210e+07</td>\n",
       "      <td>125575.426730</td>\n",
       "      <td>29834.017635</td>\n",
       "      <td>3595317.403220</td>\n",
       "      <td>72.076761</td>\n",
       "    </tr>\n",
       "  </tbody>\n",
       "</table>\n",
       "</div>"
      ],
      "text/plain": [
       "               Reputation          UpVotes       DownVotes            Views  \\\n",
       "Count        5.576910e+05    557691.000000   557691.000000    557691.000000   \n",
       "Max          8.723460e+05     32254.000000    35993.000000   1190669.000000   \n",
       "Mean         6.577900e+02        71.329188        8.454280        79.185529   \n",
       "Min          1.000000e+00         0.000000        0.000000         0.000000   \n",
       "NormL1       3.668436e+08  39779646.000000  4714876.000000  44161057.000000   \n",
       "NormL2       4.349657e+06    269943.715556   129143.308685   1417240.092318   \n",
       "NumNonzeros  5.576910e+05    246964.000000   102515.000000    424885.000000   \n",
       "Variance     3.349210e+07    125575.426730    29834.017635   3595317.403220   \n",
       "\n",
       "                         Age  \n",
       "Count          557691.000000  \n",
       "Max                96.000000  \n",
       "Mean               30.690402  \n",
       "Min                 6.000000  \n",
       "NormL1       17115761.000000  \n",
       "NormL2          23779.951114  \n",
       "NumNonzeros    557691.000000  \n",
       "Variance           72.076761  "
      ]
     },
     "execution_count": 21,
     "metadata": {},
     "output_type": "execute_result"
    }
   ],
   "source": [
    "pd_data = map(list, [[stats.count()]*5, stats.max(), stats.mean(), stats.min(), stats.normL1(), stats.normL2(),\\\n",
    "           stats.numNonzeros() ,stats.variance()])\n",
    "pd_index = ['Count', 'Max', 'Mean', 'Min', 'NormL1', 'NormL2', 'NumNonzeros', 'Variance']\n",
    "pd.DataFrame(pd_data, index=pd_index, columns=column_list)"
   ]
  },
  {
   "cell_type": "markdown",
   "metadata": {
    "slideshow": {
     "slide_type": "slide"
    }
   },
   "source": [
    "### We will calculate correlation between each pair of columns and see if we find some thing interesting."
   ]
  },
  {
   "cell_type": "code",
   "execution_count": 22,
   "metadata": {
    "collapsed": false,
    "slideshow": {
     "slide_type": "subslide"
    }
   },
   "outputs": [
    {
     "name": "stdout",
     "output_type": "stream",
     "text": [
      "Time taken = 14.9935221672 seconds.\n"
     ]
    },
    {
     "data": {
      "text/html": [
       "<div>\n",
       "<table border=\"1\" class=\"dataframe\">\n",
       "  <thead>\n",
       "    <tr style=\"text-align: right;\">\n",
       "      <th></th>\n",
       "      <th>Reputation</th>\n",
       "      <th>UpVotes</th>\n",
       "      <th>DownVotes</th>\n",
       "      <th>Views</th>\n",
       "      <th>Age</th>\n",
       "    </tr>\n",
       "  </thead>\n",
       "  <tbody>\n",
       "    <tr>\n",
       "      <th>Reputation</th>\n",
       "      <td>1.000000</td>\n",
       "      <td>0.568410</td>\n",
       "      <td>0.338779</td>\n",
       "      <td>0.558201</td>\n",
       "      <td>0.060482</td>\n",
       "    </tr>\n",
       "    <tr>\n",
       "      <th>UpVotes</th>\n",
       "      <td>0.568410</td>\n",
       "      <td>1.000000</td>\n",
       "      <td>0.328948</td>\n",
       "      <td>0.269376</td>\n",
       "      <td>0.061463</td>\n",
       "    </tr>\n",
       "    <tr>\n",
       "      <th>DownVotes</th>\n",
       "      <td>0.338779</td>\n",
       "      <td>0.328948</td>\n",
       "      <td>1.000000</td>\n",
       "      <td>0.222938</td>\n",
       "      <td>0.021307</td>\n",
       "    </tr>\n",
       "    <tr>\n",
       "      <th>Views</th>\n",
       "      <td>0.558201</td>\n",
       "      <td>0.269376</td>\n",
       "      <td>0.222938</td>\n",
       "      <td>1.000000</td>\n",
       "      <td>0.021190</td>\n",
       "    </tr>\n",
       "    <tr>\n",
       "      <th>Age</th>\n",
       "      <td>0.060482</td>\n",
       "      <td>0.061463</td>\n",
       "      <td>0.021307</td>\n",
       "      <td>0.021190</td>\n",
       "      <td>1.000000</td>\n",
       "    </tr>\n",
       "  </tbody>\n",
       "</table>\n",
       "</div>"
      ],
      "text/plain": [
       "            Reputation   UpVotes  DownVotes     Views       Age\n",
       "Reputation    1.000000  0.568410   0.338779  0.558201  0.060482\n",
       "UpVotes       0.568410  1.000000   0.328948  0.269376  0.061463\n",
       "DownVotes     0.338779  0.328948   1.000000  0.222938  0.021307\n",
       "Views         0.558201  0.269376   0.222938  1.000000  0.021190\n",
       "Age           0.060482  0.061463   0.021307  0.021190  1.000000"
      ]
     },
     "execution_count": 22,
     "metadata": {},
     "output_type": "execute_result"
    }
   ],
   "source": [
    "start_time = time()\n",
    "Statistics.colStats(vectorData)\n",
    "pd_data = Statistics.corr(vectorData, method=\"pearson\")\n",
    "pd.DataFrame(pd_data, index=column_list, columns=column_list)\n",
    "print (\"Time taken =\", time() - start_time, \"seconds.\")\n",
    "pd.DataFrame(pd_data, index=column_list, columns=column_list)"
   ]
  },
  {
   "cell_type": "markdown",
   "metadata": {
    "collapsed": false,
    "slideshow": {
     "slide_type": "fragment"
    }
   },
   "source": [
    "### Some observations:\n",
    "    High positive correlation between Reputation and Upvotes (0.57).\n",
    "    \n",
    "    High positive correlation between Reputation and Views (0.56)."
   ]
  },
  {
   "cell_type": "markdown",
   "metadata": {
    "slideshow": {
     "slide_type": "slide"
    }
   },
   "source": [
    "The last observation can be explained by the hypothesis that more reputation you have, more likely it is that people would land up on your profile page. Lets drill down further on the first observation.\n",
    "\n",
    "We filter the data to contain only Reputation and UpVotes and filter for rows with defualt values"
   ]
  },
  {
   "cell_type": "code",
   "execution_count": 23,
   "metadata": {
    "collapsed": false,
    "slideshow": {
     "slide_type": "fragment"
    }
   },
   "outputs": [
    {
     "data": {
      "text/html": [
       "<div>\n",
       "<table border=\"1\" class=\"dataframe\">\n",
       "  <thead>\n",
       "    <tr style=\"text-align: right;\">\n",
       "      <th></th>\n",
       "      <th>Reputation</th>\n",
       "      <th>UpVotes</th>\n",
       "    </tr>\n",
       "  </thead>\n",
       "  <tbody>\n",
       "    <tr>\n",
       "      <th>0</th>\n",
       "      <td>1</td>\n",
       "      <td>0</td>\n",
       "    </tr>\n",
       "    <tr>\n",
       "      <th>1</th>\n",
       "      <td>665</td>\n",
       "      <td>61</td>\n",
       "    </tr>\n",
       "    <tr>\n",
       "      <th>2</th>\n",
       "      <td>1</td>\n",
       "      <td>0</td>\n",
       "    </tr>\n",
       "    <tr>\n",
       "      <th>3</th>\n",
       "      <td>11</td>\n",
       "      <td>0</td>\n",
       "    </tr>\n",
       "    <tr>\n",
       "      <th>4</th>\n",
       "      <td>1</td>\n",
       "      <td>0</td>\n",
       "    </tr>\n",
       "    <tr>\n",
       "      <th>5</th>\n",
       "      <td>1</td>\n",
       "      <td>0</td>\n",
       "    </tr>\n",
       "    <tr>\n",
       "      <th>6</th>\n",
       "      <td>1</td>\n",
       "      <td>0</td>\n",
       "    </tr>\n",
       "    <tr>\n",
       "      <th>7</th>\n",
       "      <td>1</td>\n",
       "      <td>0</td>\n",
       "    </tr>\n",
       "    <tr>\n",
       "      <th>8</th>\n",
       "      <td>1</td>\n",
       "      <td>0</td>\n",
       "    </tr>\n",
       "    <tr>\n",
       "      <th>9</th>\n",
       "      <td>55</td>\n",
       "      <td>5</td>\n",
       "    </tr>\n",
       "    <tr>\n",
       "      <th>10</th>\n",
       "      <td>287</td>\n",
       "      <td>30</td>\n",
       "    </tr>\n",
       "    <tr>\n",
       "      <th>11</th>\n",
       "      <td>1</td>\n",
       "      <td>0</td>\n",
       "    </tr>\n",
       "    <tr>\n",
       "      <th>12</th>\n",
       "      <td>1</td>\n",
       "      <td>0</td>\n",
       "    </tr>\n",
       "    <tr>\n",
       "      <th>13</th>\n",
       "      <td>1</td>\n",
       "      <td>0</td>\n",
       "    </tr>\n",
       "    <tr>\n",
       "      <th>14</th>\n",
       "      <td>1</td>\n",
       "      <td>0</td>\n",
       "    </tr>\n",
       "    <tr>\n",
       "      <th>15</th>\n",
       "      <td>373</td>\n",
       "      <td>9</td>\n",
       "    </tr>\n",
       "    <tr>\n",
       "      <th>16</th>\n",
       "      <td>11</td>\n",
       "      <td>0</td>\n",
       "    </tr>\n",
       "    <tr>\n",
       "      <th>17</th>\n",
       "      <td>429</td>\n",
       "      <td>32</td>\n",
       "    </tr>\n",
       "    <tr>\n",
       "      <th>18</th>\n",
       "      <td>5870</td>\n",
       "      <td>413</td>\n",
       "    </tr>\n",
       "    <tr>\n",
       "      <th>19</th>\n",
       "      <td>980</td>\n",
       "      <td>4</td>\n",
       "    </tr>\n",
       "    <tr>\n",
       "      <th>20</th>\n",
       "      <td>1</td>\n",
       "      <td>0</td>\n",
       "    </tr>\n",
       "    <tr>\n",
       "      <th>21</th>\n",
       "      <td>108</td>\n",
       "      <td>9</td>\n",
       "    </tr>\n",
       "    <tr>\n",
       "      <th>22</th>\n",
       "      <td>8669</td>\n",
       "      <td>2324</td>\n",
       "    </tr>\n",
       "    <tr>\n",
       "      <th>23</th>\n",
       "      <td>866</td>\n",
       "      <td>38</td>\n",
       "    </tr>\n",
       "    <tr>\n",
       "      <th>24</th>\n",
       "      <td>45</td>\n",
       "      <td>0</td>\n",
       "    </tr>\n",
       "    <tr>\n",
       "      <th>25</th>\n",
       "      <td>1</td>\n",
       "      <td>0</td>\n",
       "    </tr>\n",
       "    <tr>\n",
       "      <th>26</th>\n",
       "      <td>46</td>\n",
       "      <td>49</td>\n",
       "    </tr>\n",
       "    <tr>\n",
       "      <th>27</th>\n",
       "      <td>6</td>\n",
       "      <td>0</td>\n",
       "    </tr>\n",
       "    <tr>\n",
       "      <th>28</th>\n",
       "      <td>1</td>\n",
       "      <td>0</td>\n",
       "    </tr>\n",
       "    <tr>\n",
       "      <th>29</th>\n",
       "      <td>116</td>\n",
       "      <td>602</td>\n",
       "    </tr>\n",
       "    <tr>\n",
       "      <th>...</th>\n",
       "      <td>...</td>\n",
       "      <td>...</td>\n",
       "    </tr>\n",
       "    <tr>\n",
       "      <th>31</th>\n",
       "      <td>283</td>\n",
       "      <td>9</td>\n",
       "    </tr>\n",
       "    <tr>\n",
       "      <th>32</th>\n",
       "      <td>94</td>\n",
       "      <td>1</td>\n",
       "    </tr>\n",
       "    <tr>\n",
       "      <th>33</th>\n",
       "      <td>2234</td>\n",
       "      <td>667</td>\n",
       "    </tr>\n",
       "    <tr>\n",
       "      <th>34</th>\n",
       "      <td>19</td>\n",
       "      <td>0</td>\n",
       "    </tr>\n",
       "    <tr>\n",
       "      <th>35</th>\n",
       "      <td>21</td>\n",
       "      <td>2</td>\n",
       "    </tr>\n",
       "    <tr>\n",
       "      <th>36</th>\n",
       "      <td>1662</td>\n",
       "      <td>69</td>\n",
       "    </tr>\n",
       "    <tr>\n",
       "      <th>37</th>\n",
       "      <td>151</td>\n",
       "      <td>0</td>\n",
       "    </tr>\n",
       "    <tr>\n",
       "      <th>38</th>\n",
       "      <td>1</td>\n",
       "      <td>0</td>\n",
       "    </tr>\n",
       "    <tr>\n",
       "      <th>39</th>\n",
       "      <td>189</td>\n",
       "      <td>2</td>\n",
       "    </tr>\n",
       "    <tr>\n",
       "      <th>40</th>\n",
       "      <td>23</td>\n",
       "      <td>6</td>\n",
       "    </tr>\n",
       "    <tr>\n",
       "      <th>41</th>\n",
       "      <td>1</td>\n",
       "      <td>0</td>\n",
       "    </tr>\n",
       "    <tr>\n",
       "      <th>42</th>\n",
       "      <td>1563</td>\n",
       "      <td>512</td>\n",
       "    </tr>\n",
       "    <tr>\n",
       "      <th>43</th>\n",
       "      <td>25</td>\n",
       "      <td>3</td>\n",
       "    </tr>\n",
       "    <tr>\n",
       "      <th>44</th>\n",
       "      <td>1</td>\n",
       "      <td>0</td>\n",
       "    </tr>\n",
       "    <tr>\n",
       "      <th>45</th>\n",
       "      <td>1</td>\n",
       "      <td>0</td>\n",
       "    </tr>\n",
       "    <tr>\n",
       "      <th>46</th>\n",
       "      <td>1161</td>\n",
       "      <td>38</td>\n",
       "    </tr>\n",
       "    <tr>\n",
       "      <th>47</th>\n",
       "      <td>1</td>\n",
       "      <td>0</td>\n",
       "    </tr>\n",
       "    <tr>\n",
       "      <th>48</th>\n",
       "      <td>1</td>\n",
       "      <td>0</td>\n",
       "    </tr>\n",
       "    <tr>\n",
       "      <th>49</th>\n",
       "      <td>1</td>\n",
       "      <td>0</td>\n",
       "    </tr>\n",
       "    <tr>\n",
       "      <th>50</th>\n",
       "      <td>1</td>\n",
       "      <td>0</td>\n",
       "    </tr>\n",
       "    <tr>\n",
       "      <th>51</th>\n",
       "      <td>1</td>\n",
       "      <td>0</td>\n",
       "    </tr>\n",
       "    <tr>\n",
       "      <th>52</th>\n",
       "      <td>1</td>\n",
       "      <td>0</td>\n",
       "    </tr>\n",
       "    <tr>\n",
       "      <th>53</th>\n",
       "      <td>47</td>\n",
       "      <td>17</td>\n",
       "    </tr>\n",
       "    <tr>\n",
       "      <th>54</th>\n",
       "      <td>178</td>\n",
       "      <td>62</td>\n",
       "    </tr>\n",
       "    <tr>\n",
       "      <th>55</th>\n",
       "      <td>20</td>\n",
       "      <td>54</td>\n",
       "    </tr>\n",
       "    <tr>\n",
       "      <th>56</th>\n",
       "      <td>22</td>\n",
       "      <td>5</td>\n",
       "    </tr>\n",
       "    <tr>\n",
       "      <th>57</th>\n",
       "      <td>6</td>\n",
       "      <td>0</td>\n",
       "    </tr>\n",
       "    <tr>\n",
       "      <th>58</th>\n",
       "      <td>1</td>\n",
       "      <td>0</td>\n",
       "    </tr>\n",
       "    <tr>\n",
       "      <th>59</th>\n",
       "      <td>1</td>\n",
       "      <td>0</td>\n",
       "    </tr>\n",
       "    <tr>\n",
       "      <th>60</th>\n",
       "      <td>1</td>\n",
       "      <td>0</td>\n",
       "    </tr>\n",
       "  </tbody>\n",
       "</table>\n",
       "<p>61 rows × 2 columns</p>\n",
       "</div>"
      ],
      "text/plain": [
       "    Reputation  UpVotes\n",
       "0            1        0\n",
       "1          665       61\n",
       "2            1        0\n",
       "3           11        0\n",
       "4            1        0\n",
       "5            1        0\n",
       "6            1        0\n",
       "7            1        0\n",
       "8            1        0\n",
       "9           55        5\n",
       "10         287       30\n",
       "11           1        0\n",
       "12           1        0\n",
       "13           1        0\n",
       "14           1        0\n",
       "15         373        9\n",
       "16          11        0\n",
       "17         429       32\n",
       "18        5870      413\n",
       "19         980        4\n",
       "20           1        0\n",
       "21         108        9\n",
       "22        8669     2324\n",
       "23         866       38\n",
       "24          45        0\n",
       "25           1        0\n",
       "26          46       49\n",
       "27           6        0\n",
       "28           1        0\n",
       "29         116      602\n",
       "..         ...      ...\n",
       "31         283        9\n",
       "32          94        1\n",
       "33        2234      667\n",
       "34          19        0\n",
       "35          21        2\n",
       "36        1662       69\n",
       "37         151        0\n",
       "38           1        0\n",
       "39         189        2\n",
       "40          23        6\n",
       "41           1        0\n",
       "42        1563      512\n",
       "43          25        3\n",
       "44           1        0\n",
       "45           1        0\n",
       "46        1161       38\n",
       "47           1        0\n",
       "48           1        0\n",
       "49           1        0\n",
       "50           1        0\n",
       "51           1        0\n",
       "52           1        0\n",
       "53          47       17\n",
       "54         178       62\n",
       "55          20       54\n",
       "56          22        5\n",
       "57           6        0\n",
       "58           1        0\n",
       "59           1        0\n",
       "60           1        0\n",
       "\n",
       "[61 rows x 2 columns]"
      ]
     },
     "execution_count": 23,
     "metadata": {},
     "output_type": "execute_result"
    }
   ],
   "source": [
    "columns_to_select = [\"Reputation\", \"UpVotes\"]\n",
    "data = user_df.filter(filter_expression).select(columns_to_select).cache()\n",
    "data.sample(False, 0.0001, 42).toPandas()"
   ]
  },
  {
   "cell_type": "markdown",
   "metadata": {
    "collapsed": false,
    "slideshow": {
     "slide_type": "subslide"
    }
   },
   "source": [
    "Notice that this is the second dataframe that we have cached so far.\n",
    "\n",
    "We can check the memory profile for the app at http://localhost:4040/storage."
   ]
  },
  {
   "cell_type": "markdown",
   "metadata": {
    "collapsed": false,
    "slideshow": {
     "slide_type": "subslide"
    }
   },
   "source": [
    "![Python Logo](../../assets/screenshots/storage1.png)"
   ]
  },
  {
   "cell_type": "markdown",
   "metadata": {
    "slideshow": {
     "slide_type": "fragment"
    }
   },
   "source": [
    "We no longer need the *user_df* dataframe so we will unpersist it and recover some memory."
   ]
  },
  {
   "cell_type": "code",
   "execution_count": 24,
   "metadata": {
    "collapsed": false,
    "slideshow": {
     "slide_type": "fragment"
    }
   },
   "outputs": [
    {
     "data": {
      "text/plain": [
       "DataFrame[Id: bigint, Reputation: bigint, CreationDate: string, DisplayName: string, EmailHash: string, lastAccessDate: string, WebsiteUrl: string, Location: string, Age: bigint, AboutMe: string, Views: bigint, UpVotes: bigint, DownVotes: bigint, AccountId: bigint]"
      ]
     },
     "execution_count": 24,
     "metadata": {},
     "output_type": "execute_result"
    }
   ],
   "source": [
    "user_df.unpersist()"
   ]
  },
  {
   "cell_type": "markdown",
   "metadata": {
    "slideshow": {
     "slide_type": "subslide"
    }
   },
   "source": [
    "Check that now only one dataframe is cached for the application. http://localhost:4040/storage."
   ]
  },
  {
   "cell_type": "markdown",
   "metadata": {
    "collapsed": false,
    "slideshow": {
     "slide_type": "subslide"
    }
   },
   "source": [
    "![Python Logo](../../assets/screenshots/storage2.png)"
   ]
  },
  {
   "cell_type": "markdown",
   "metadata": {
    "slideshow": {
     "slide_type": "slide"
    }
   },
   "source": [
    "Spark is good at number chrunching and performing compuations but not so good at visualisations. So we will load a sample of the dataset into Pandas dataframe using the toPandas method and visualise it using sns."
   ]
  },
  {
   "cell_type": "code",
   "execution_count": 25,
   "metadata": {
    "collapsed": false,
    "slideshow": {
     "slide_type": "skip"
    }
   },
   "outputs": [
    {
     "data": {
      "text/plain": [
       "<seaborn.axisgrid.JointGrid at 0x7fa8e09d3050>"
      ]
     },
     "execution_count": 25,
     "metadata": {},
     "output_type": "execute_result"
    },
    {
     "data": {
      "image/png": "[encoded data removed]",
      "text/plain": [
       "<matplotlib.figure.Figure at 0x7fa8e09d31d0>"
      ]
     },
     "metadata": {},
     "output_type": "display_data"
    }
   ],
   "source": [
    "pandas_df = data.sample(False, .1, 42).toPandas()\n",
    "# %matplotlib qt\n",
    "sns.jointplot('Reputation', 'UpVotes', data=pandas_df)"
   ]
  },
  {
   "cell_type": "code",
   "execution_count": 26,
   "metadata": {
    "collapsed": false,
    "slideshow": {
     "slide_type": "subslide"
    }
   },
   "outputs": [
    {
     "name": "stdout",
     "output_type": "stream",
     "text": [
      "Time taken = 0.981678962708 seconds.\n"
     ]
    },
    {
     "data": {
      "image/png": "[encoded data removed]",
      "text/plain": [
       "<matplotlib.figure.Figure at 0x7fa8dfd34ed0>"
      ]
     },
     "metadata": {},
     "output_type": "display_data"
    }
   ],
   "source": [
    "start_time = time()\n",
    "pandas_df = data.sample(False, .1, 42).toPandas()\n",
    "%matplotlib inline\n",
    "sns.jointplot('Reputation', 'UpVotes', data=pandas_df)\n",
    "print (\"Time taken =\", time() - start_time, \"seconds.\")"
   ]
  },
  {
   "cell_type": "code",
   "execution_count": 27,
   "metadata": {
    "collapsed": false,
    "slideshow": {
     "slide_type": "subslide"
    }
   },
   "outputs": [
    {
     "name": "stdout",
     "output_type": "stream",
     "text": [
      "Time taken = 4.80216598511 seconds.\n"
     ]
    },
    {
     "data": {
      "image/png": "[encoded data removed]",
      "text/plain": [
       "<matplotlib.figure.Figure at 0x7fa8dfbd8c90>"
      ]
     },
     "metadata": {},
     "output_type": "display_data"
    }
   ],
   "source": [
    "start_time = time()\n",
    "pandas_df = data.sample(False, 0.9, 42).toPandas()\n",
    "%matplotlib inline\n",
    "sns.jointplot('Reputation', 'UpVotes', data=pandas_df)\n",
    "print (\"Time taken =\", time() - start_time, \"seconds.\")"
   ]
  },
  {
   "cell_type": "markdown",
   "metadata": {
    "slideshow": {
     "slide_type": "subslide"
    }
   },
   "source": [
    "This visualistion is unintutive as most of the data is distributed in a narrow zone and the \n",
    "scale is skewed due to outliers. We will try plotting the values on the log scale."
   ]
  },
  {
   "cell_type": "code",
   "execution_count": 28,
   "metadata": {
    "collapsed": false,
    "slideshow": {
     "slide_type": "skip"
    }
   },
   "outputs": [
    {
     "data": {
      "text/plain": [
       "<seaborn.axisgrid.JointGrid at 0x7fa8dfc25fd0>"
      ]
     },
     "execution_count": 28,
     "metadata": {},
     "output_type": "execute_result"
    },
    {
     "data": {
      "image/png": "[encoded data removed]",
      "text/plain": [
       "<matplotlib.figure.Figure at 0x7fa8e09ce350>"
      ]
     },
     "metadata": {},
     "output_type": "display_data"
    }
   ],
   "source": [
    "log_pandas_df = data.select(func.log10(data[\"Reputation\"]),func.log10(data[\"UpVotes\"])).sample(False, .1).toPandas()\n",
    "# %matplotlib qt\n",
    "sns.jointplot('LOG10(Reputation)', 'LOG10(UpVotes)', data=log_pandas_df)"
   ]
  },
  {
   "cell_type": "code",
   "execution_count": 29,
   "metadata": {
    "collapsed": false,
    "slideshow": {
     "slide_type": "slide"
    }
   },
   "outputs": [
    {
     "data": {
      "text/plain": [
       "<seaborn.axisgrid.JointGrid at 0x7fa8dfdd2410>"
      ]
     },
     "execution_count": 29,
     "metadata": {},
     "output_type": "execute_result"
    },
    {
     "data": {
      "image/png": "[encoded data removed]",
      "text/plain": [
       "<matplotlib.figure.Figure at 0x7fa8e091ec50>"
      ]
     },
     "metadata": {},
     "output_type": "display_data"
    }
   ],
   "source": [
    "log_pandas_df = data.select(func.log10(data[\"Reputation\"]),func.log10(data[\"UpVotes\"])).sample(False, .1).toPandas()\n",
    "%matplotlib inline\n",
    "sns.jointplot('LOG10(Reputation)', 'LOG10(UpVotes)', data=log_pandas_df)"
   ]
  },
  {
   "cell_type": "markdown",
   "metadata": {
    "slideshow": {
     "slide_type": "slide"
    }
   },
   "source": [
    "Before we wrap up, let us play with the *CreationDate* column and see if we can mine some interesting observations on that front. The idea is to show how we can play with more complex data types (like datetime) and use some Spark operators as well."
   ]
  },
  {
   "cell_type": "markdown",
   "metadata": {
    "slideshow": {
     "slide_type": "fragment"
    }
   },
   "source": [
    "We will start with the *user_df* dataframe. Remember that we had uncached it which means it is no longer available in memory but we can still run operations on it. In this case, the dataframe would be loaded once again but will not be persisted, unless we explicitly ask Spark to do so."
   ]
  },
  {
   "cell_type": "code",
   "execution_count": 30,
   "metadata": {
    "collapsed": false,
    "slideshow": {
     "slide_type": "slide"
    }
   },
   "outputs": [
    {
     "name": "stdout",
     "output_type": "stream",
     "text": [
      "root\n",
      " |-- CreationDate: string (nullable = true)\n",
      "\n",
      "+--------------------+\n",
      "|        CreationDate|\n",
      "+--------------------+\n",
      "|2014-12-19T22:29:...|\n",
      "|2014-12-19T22:30:...|\n",
      "|2014-12-19T22:30:...|\n",
      "|2014-12-19T22:30:...|\n",
      "|2014-12-19T22:31:...|\n",
      "|2014-12-19T22:31:...|\n",
      "|2014-12-19T22:31:...|\n",
      "|2014-12-19T22:32:...|\n",
      "|2014-12-19T09:20:...|\n",
      "|2014-12-19T22:32:...|\n",
      "+--------------------+\n",
      "only showing top 10 rows\n",
      "\n"
     ]
    }
   ],
   "source": [
    "creation_date_df = user_df.select(\"CreationDate\")\n",
    "creation_date_df.printSchema()\n",
    "creation_date_df.show(10)"
   ]
  },
  {
   "cell_type": "markdown",
   "metadata": {
    "slideshow": {
     "slide_type": "fragment"
    }
   },
   "source": [
    "Note that **CreationDate** column was parsed as **string**. Let us fix that by selecting **CreationDate** as **date** type."
   ]
  },
  {
   "cell_type": "code",
   "execution_count": 31,
   "metadata": {
    "collapsed": false,
    "slideshow": {
     "slide_type": "slide"
    }
   },
   "outputs": [
    {
     "name": "stdout",
     "output_type": "stream",
     "text": [
      "root\n",
      " |-- CreationDate: date (nullable = true)\n",
      "\n",
      "+------------+\n",
      "|CreationDate|\n",
      "+------------+\n",
      "|  2014-12-19|\n",
      "|  2014-12-19|\n",
      "|  2014-12-19|\n",
      "|  2014-12-19|\n",
      "|  2014-12-19|\n",
      "|  2014-12-19|\n",
      "|  2014-12-19|\n",
      "|  2014-12-19|\n",
      "|  2014-12-19|\n",
      "|  2014-12-19|\n",
      "+------------+\n",
      "only showing top 10 rows\n",
      "\n"
     ]
    }
   ],
   "source": [
    "date_df = creation_date_df.select(func.to_date(creation_date_df[\"CreationDate\"]).alias(\"CreationDate\"))\n",
    "date_df.printSchema()\n",
    "date_df.show(10)"
   ]
  },
  {
   "cell_type": "markdown",
   "metadata": {
    "slideshow": {
     "slide_type": "slide"
    }
   },
   "source": [
    "### RDD vs DataFrame"
   ]
  },
  {
   "cell_type": "markdown",
   "metadata": {
    "slideshow": {
     "slide_type": "fragment"
    }
   },
   "source": [
    "We want to count the number of new accounts each day. We would try doing this using both RDDs and DataFrames and compare their performance."
   ]
  },
  {
   "cell_type": "markdown",
   "metadata": {
    "slideshow": {
     "slide_type": "subslide"
    }
   },
   "source": [
    "### RDD\n",
    "Convert dataframe to rdd."
   ]
  },
  {
   "cell_type": "markdown",
   "metadata": {
    "slideshow": {
     "slide_type": "fragment"
    }
   },
   "source": [
    "Map each row with numerical value 1 (number of accounts each row contributes)."
   ]
  },
  {
   "cell_type": "markdown",
   "metadata": {
    "slideshow": {
     "slide_type": "fragment"
    }
   },
   "source": [
    "Then we reduce our data using date as the key and add the values corresponding to same date."
   ]
  },
  {
   "cell_type": "code",
   "execution_count": 32,
   "metadata": {
    "collapsed": false,
    "slideshow": {
     "slide_type": "fragment"
    }
   },
   "outputs": [
    {
     "name": "stdout",
     "output_type": "stream",
     "text": [
      "aggregated_df maps each date to number of accounts that were created.\n",
      "Number of rows =  2874\n",
      "Time taken = 23.8184030056 seconds.\n"
     ]
    }
   ],
   "source": [
    "start_time = time()\n",
    "date_rdd = date_df.rdd\n",
    "aggregated_df = date_rdd.map(lambda a: (a, 1)).groupByKey().map(lambda a: (a[0], sum(a[1])))\n",
    "print (\"aggregated_df maps each date to number of accounts that were created.\")\n",
    "print (\"Number of rows = \",aggregated_df.count())\n",
    "time_taken_rdd = time() - start_time\n",
    "print (\"Time taken =\", time_taken_rdd, \"seconds.\")"
   ]
  },
  {
   "cell_type": "markdown",
   "metadata": {
    "slideshow": {
     "slide_type": "subslide"
    }
   },
   "source": [
    "### DataFrame"
   ]
  },
  {
   "cell_type": "code",
   "execution_count": 33,
   "metadata": {
    "collapsed": false,
    "slideshow": {
     "slide_type": "fragment"
    }
   },
   "outputs": [
    {
     "name": "stdout",
     "output_type": "stream",
     "text": [
      "aggregated_df maps each date to number of accounts that were created.\n",
      "Number of rows =  2874\n",
      "Time taken = 4.8155810833 seconds.\n"
     ]
    }
   ],
   "source": [
    "start_time = time()\n",
    "aggregated_df = date_df.groupBy('CreationDate').count()\n",
    "print (\"aggregated_df maps each date to number of accounts that were created.\")\n",
    "print (\"Number of rows = \",aggregated_df.count())\n",
    "time_taken_df = time() - start_time\n",
    "print (\"Time taken =\", time_taken_df, \"seconds.\")"
   ]
  },
  {
   "cell_type": "code",
   "execution_count": 34,
   "metadata": {
    "collapsed": false,
    "slideshow": {
     "slide_type": "subslide"
    }
   },
   "outputs": [
    {
     "name": "stdout",
     "output_type": "stream",
     "text": [
      "time_taken_rdd = 23.8184030056\n",
      "time_taken_df = 4.8155810833\n",
      "Speed up = 4.94611192161\n"
     ]
    }
   ],
   "source": [
    "print (\"time_taken_rdd =\", time_taken_rdd)\n",
    "print (\"time_taken_df =\", time_taken_df)\n",
    "print (\"Speed up =\",time_taken_rdd/time_taken_df)"
   ]
  },
  {
   "cell_type": "markdown",
   "metadata": {
    "slideshow": {
     "slide_type": "fragment"
    }
   },
   "source": [
    "### DataFrames are many times faster than RDDs."
   ]
  },
  {
   "cell_type": "code",
   "execution_count": 35,
   "metadata": {
    "collapsed": false,
    "slideshow": {
     "slide_type": "slide"
    }
   },
   "outputs": [
    {
     "name": "stdout",
     "output_type": "stream",
     "text": [
      "root\n",
      " |-- CreationDate: date (nullable = true)\n",
      " |-- count: long (nullable = false)\n",
      "\n"
     ]
    }
   ],
   "source": [
    "aggregated_df.printSchema()"
   ]
  },
  {
   "cell_type": "code",
   "execution_count": 36,
   "metadata": {
    "collapsed": false,
    "slideshow": {
     "slide_type": "slide"
    }
   },
   "outputs": [
    {
     "data": {
      "text/html": [
       "<div>\n",
       "<table border=\"1\" class=\"dataframe\">\n",
       "  <thead>\n",
       "    <tr style=\"text-align: right;\">\n",
       "      <th></th>\n",
       "      <th>CreationDate</th>\n",
       "      <th>NewAccounts</th>\n",
       "    </tr>\n",
       "  </thead>\n",
       "  <tbody>\n",
       "    <tr>\n",
       "      <th>0</th>\n",
       "      <td>2008-07-31</td>\n",
       "      <td>9</td>\n",
       "    </tr>\n",
       "    <tr>\n",
       "      <th>1</th>\n",
       "      <td>2008-08-01</td>\n",
       "      <td>80</td>\n",
       "    </tr>\n",
       "    <tr>\n",
       "      <th>2</th>\n",
       "      <td>2008-08-02</td>\n",
       "      <td>54</td>\n",
       "    </tr>\n",
       "    <tr>\n",
       "      <th>3</th>\n",
       "      <td>2008-08-03</td>\n",
       "      <td>54</td>\n",
       "    </tr>\n",
       "    <tr>\n",
       "      <th>4</th>\n",
       "      <td>2008-08-04</td>\n",
       "      <td>83</td>\n",
       "    </tr>\n",
       "    <tr>\n",
       "      <th>5</th>\n",
       "      <td>2008-08-05</td>\n",
       "      <td>86</td>\n",
       "    </tr>\n",
       "    <tr>\n",
       "      <th>6</th>\n",
       "      <td>2008-08-06</td>\n",
       "      <td>89</td>\n",
       "    </tr>\n",
       "    <tr>\n",
       "      <th>7</th>\n",
       "      <td>2008-08-07</td>\n",
       "      <td>81</td>\n",
       "    </tr>\n",
       "    <tr>\n",
       "      <th>8</th>\n",
       "      <td>2008-08-08</td>\n",
       "      <td>66</td>\n",
       "    </tr>\n",
       "    <tr>\n",
       "      <th>9</th>\n",
       "      <td>2008-08-09</td>\n",
       "      <td>64</td>\n",
       "    </tr>\n",
       "    <tr>\n",
       "      <th>10</th>\n",
       "      <td>2008-08-10</td>\n",
       "      <td>67</td>\n",
       "    </tr>\n",
       "    <tr>\n",
       "      <th>11</th>\n",
       "      <td>2008-08-11</td>\n",
       "      <td>85</td>\n",
       "    </tr>\n",
       "    <tr>\n",
       "      <th>12</th>\n",
       "      <td>2008-08-12</td>\n",
       "      <td>70</td>\n",
       "    </tr>\n",
       "    <tr>\n",
       "      <th>13</th>\n",
       "      <td>2008-08-13</td>\n",
       "      <td>74</td>\n",
       "    </tr>\n",
       "    <tr>\n",
       "      <th>14</th>\n",
       "      <td>2008-08-14</td>\n",
       "      <td>92</td>\n",
       "    </tr>\n",
       "    <tr>\n",
       "      <th>15</th>\n",
       "      <td>2008-08-15</td>\n",
       "      <td>88</td>\n",
       "    </tr>\n",
       "    <tr>\n",
       "      <th>16</th>\n",
       "      <td>2008-08-16</td>\n",
       "      <td>62</td>\n",
       "    </tr>\n",
       "    <tr>\n",
       "      <th>17</th>\n",
       "      <td>2008-08-17</td>\n",
       "      <td>72</td>\n",
       "    </tr>\n",
       "    <tr>\n",
       "      <th>18</th>\n",
       "      <td>2008-08-18</td>\n",
       "      <td>134</td>\n",
       "    </tr>\n",
       "    <tr>\n",
       "      <th>19</th>\n",
       "      <td>2008-08-19</td>\n",
       "      <td>139</td>\n",
       "    </tr>\n",
       "    <tr>\n",
       "      <th>20</th>\n",
       "      <td>2008-08-20</td>\n",
       "      <td>118</td>\n",
       "    </tr>\n",
       "    <tr>\n",
       "      <th>21</th>\n",
       "      <td>2008-08-21</td>\n",
       "      <td>107</td>\n",
       "    </tr>\n",
       "    <tr>\n",
       "      <th>22</th>\n",
       "      <td>2008-08-22</td>\n",
       "      <td>112</td>\n",
       "    </tr>\n",
       "    <tr>\n",
       "      <th>23</th>\n",
       "      <td>2008-08-23</td>\n",
       "      <td>63</td>\n",
       "    </tr>\n",
       "    <tr>\n",
       "      <th>24</th>\n",
       "      <td>2008-08-24</td>\n",
       "      <td>93</td>\n",
       "    </tr>\n",
       "    <tr>\n",
       "      <th>25</th>\n",
       "      <td>2008-08-25</td>\n",
       "      <td>100</td>\n",
       "    </tr>\n",
       "    <tr>\n",
       "      <th>26</th>\n",
       "      <td>2008-08-26</td>\n",
       "      <td>158</td>\n",
       "    </tr>\n",
       "    <tr>\n",
       "      <th>27</th>\n",
       "      <td>2008-08-27</td>\n",
       "      <td>124</td>\n",
       "    </tr>\n",
       "    <tr>\n",
       "      <th>28</th>\n",
       "      <td>2008-08-28</td>\n",
       "      <td>141</td>\n",
       "    </tr>\n",
       "    <tr>\n",
       "      <th>29</th>\n",
       "      <td>2008-08-29</td>\n",
       "      <td>106</td>\n",
       "    </tr>\n",
       "    <tr>\n",
       "      <th>...</th>\n",
       "      <td>...</td>\n",
       "      <td>...</td>\n",
       "    </tr>\n",
       "    <tr>\n",
       "      <th>2844</th>\n",
       "      <td>2016-05-14</td>\n",
       "      <td>2855</td>\n",
       "    </tr>\n",
       "    <tr>\n",
       "      <th>2845</th>\n",
       "      <td>2016-05-15</td>\n",
       "      <td>2819</td>\n",
       "    </tr>\n",
       "    <tr>\n",
       "      <th>2846</th>\n",
       "      <td>2016-05-16</td>\n",
       "      <td>4512</td>\n",
       "    </tr>\n",
       "    <tr>\n",
       "      <th>2847</th>\n",
       "      <td>2016-05-17</td>\n",
       "      <td>4975</td>\n",
       "    </tr>\n",
       "    <tr>\n",
       "      <th>2848</th>\n",
       "      <td>2016-05-18</td>\n",
       "      <td>5276</td>\n",
       "    </tr>\n",
       "    <tr>\n",
       "      <th>2849</th>\n",
       "      <td>2016-05-19</td>\n",
       "      <td>4976</td>\n",
       "    </tr>\n",
       "    <tr>\n",
       "      <th>2850</th>\n",
       "      <td>2016-05-20</td>\n",
       "      <td>4577</td>\n",
       "    </tr>\n",
       "    <tr>\n",
       "      <th>2851</th>\n",
       "      <td>2016-05-21</td>\n",
       "      <td>2761</td>\n",
       "    </tr>\n",
       "    <tr>\n",
       "      <th>2852</th>\n",
       "      <td>2016-05-22</td>\n",
       "      <td>2757</td>\n",
       "    </tr>\n",
       "    <tr>\n",
       "      <th>2853</th>\n",
       "      <td>2016-05-23</td>\n",
       "      <td>4605</td>\n",
       "    </tr>\n",
       "    <tr>\n",
       "      <th>2854</th>\n",
       "      <td>2016-05-24</td>\n",
       "      <td>4997</td>\n",
       "    </tr>\n",
       "    <tr>\n",
       "      <th>2855</th>\n",
       "      <td>2016-05-25</td>\n",
       "      <td>4880</td>\n",
       "    </tr>\n",
       "    <tr>\n",
       "      <th>2856</th>\n",
       "      <td>2016-05-26</td>\n",
       "      <td>4845</td>\n",
       "    </tr>\n",
       "    <tr>\n",
       "      <th>2857</th>\n",
       "      <td>2016-05-27</td>\n",
       "      <td>4465</td>\n",
       "    </tr>\n",
       "    <tr>\n",
       "      <th>2858</th>\n",
       "      <td>2016-05-28</td>\n",
       "      <td>2545</td>\n",
       "    </tr>\n",
       "    <tr>\n",
       "      <th>2859</th>\n",
       "      <td>2016-05-29</td>\n",
       "      <td>2515</td>\n",
       "    </tr>\n",
       "    <tr>\n",
       "      <th>2860</th>\n",
       "      <td>2016-05-30</td>\n",
       "      <td>3973</td>\n",
       "    </tr>\n",
       "    <tr>\n",
       "      <th>2861</th>\n",
       "      <td>2016-05-31</td>\n",
       "      <td>4671</td>\n",
       "    </tr>\n",
       "    <tr>\n",
       "      <th>2862</th>\n",
       "      <td>2016-06-01</td>\n",
       "      <td>5025</td>\n",
       "    </tr>\n",
       "    <tr>\n",
       "      <th>2863</th>\n",
       "      <td>2016-06-02</td>\n",
       "      <td>5012</td>\n",
       "    </tr>\n",
       "    <tr>\n",
       "      <th>2864</th>\n",
       "      <td>2016-06-03</td>\n",
       "      <td>4336</td>\n",
       "    </tr>\n",
       "    <tr>\n",
       "      <th>2865</th>\n",
       "      <td>2016-06-04</td>\n",
       "      <td>2716</td>\n",
       "    </tr>\n",
       "    <tr>\n",
       "      <th>2866</th>\n",
       "      <td>2016-06-05</td>\n",
       "      <td>2704</td>\n",
       "    </tr>\n",
       "    <tr>\n",
       "      <th>2867</th>\n",
       "      <td>2016-06-06</td>\n",
       "      <td>4526</td>\n",
       "    </tr>\n",
       "    <tr>\n",
       "      <th>2868</th>\n",
       "      <td>2016-06-07</td>\n",
       "      <td>4903</td>\n",
       "    </tr>\n",
       "    <tr>\n",
       "      <th>2869</th>\n",
       "      <td>2016-06-08</td>\n",
       "      <td>5116</td>\n",
       "    </tr>\n",
       "    <tr>\n",
       "      <th>2870</th>\n",
       "      <td>2016-06-09</td>\n",
       "      <td>4863</td>\n",
       "    </tr>\n",
       "    <tr>\n",
       "      <th>2871</th>\n",
       "      <td>2016-06-10</td>\n",
       "      <td>4299</td>\n",
       "    </tr>\n",
       "    <tr>\n",
       "      <th>2872</th>\n",
       "      <td>2016-06-11</td>\n",
       "      <td>2580</td>\n",
       "    </tr>\n",
       "    <tr>\n",
       "      <th>2873</th>\n",
       "      <td>2016-06-12</td>\n",
       "      <td>320</td>\n",
       "    </tr>\n",
       "  </tbody>\n",
       "</table>\n",
       "<p>2874 rows × 2 columns</p>\n",
       "</div>"
      ],
      "text/plain": [
       "     CreationDate  NewAccounts\n",
       "0      2008-07-31            9\n",
       "1      2008-08-01           80\n",
       "2      2008-08-02           54\n",
       "3      2008-08-03           54\n",
       "4      2008-08-04           83\n",
       "5      2008-08-05           86\n",
       "6      2008-08-06           89\n",
       "7      2008-08-07           81\n",
       "8      2008-08-08           66\n",
       "9      2008-08-09           64\n",
       "10     2008-08-10           67\n",
       "11     2008-08-11           85\n",
       "12     2008-08-12           70\n",
       "13     2008-08-13           74\n",
       "14     2008-08-14           92\n",
       "15     2008-08-15           88\n",
       "16     2008-08-16           62\n",
       "17     2008-08-17           72\n",
       "18     2008-08-18          134\n",
       "19     2008-08-19          139\n",
       "20     2008-08-20          118\n",
       "21     2008-08-21          107\n",
       "22     2008-08-22          112\n",
       "23     2008-08-23           63\n",
       "24     2008-08-24           93\n",
       "25     2008-08-25          100\n",
       "26     2008-08-26          158\n",
       "27     2008-08-27          124\n",
       "28     2008-08-28          141\n",
       "29     2008-08-29          106\n",
       "...           ...          ...\n",
       "2844   2016-05-14         2855\n",
       "2845   2016-05-15         2819\n",
       "2846   2016-05-16         4512\n",
       "2847   2016-05-17         4975\n",
       "2848   2016-05-18         5276\n",
       "2849   2016-05-19         4976\n",
       "2850   2016-05-20         4577\n",
       "2851   2016-05-21         2761\n",
       "2852   2016-05-22         2757\n",
       "2853   2016-05-23         4605\n",
       "2854   2016-05-24         4997\n",
       "2855   2016-05-25         4880\n",
       "2856   2016-05-26         4845\n",
       "2857   2016-05-27         4465\n",
       "2858   2016-05-28         2545\n",
       "2859   2016-05-29         2515\n",
       "2860   2016-05-30         3973\n",
       "2861   2016-05-31         4671\n",
       "2862   2016-06-01         5025\n",
       "2863   2016-06-02         5012\n",
       "2864   2016-06-03         4336\n",
       "2865   2016-06-04         2716\n",
       "2866   2016-06-05         2704\n",
       "2867   2016-06-06         4526\n",
       "2868   2016-06-07         4903\n",
       "2869   2016-06-08         5116\n",
       "2870   2016-06-09         4863\n",
       "2871   2016-06-10         4299\n",
       "2872   2016-06-11         2580\n",
       "2873   2016-06-12          320\n",
       "\n",
       "[2874 rows x 2 columns]"
      ]
     },
     "execution_count": 36,
     "metadata": {},
     "output_type": "execute_result"
    }
   ],
   "source": [
    "pandas_df = aggregated_df.select(\"CreationDate\", aggregated_df[\"count\"].alias(\"NewAccounts\"))\\\n",
    ".orderBy(func.asc(\"CreationDate\")).toPandas()\n",
    "pandas_df"
   ]
  },
  {
   "cell_type": "markdown",
   "metadata": {
    "slideshow": {
     "slide_type": "slide"
    }
   },
   "source": [
    "Let us plot this data and see if there is any interesting observation."
   ]
  },
  {
   "cell_type": "code",
   "execution_count": 37,
   "metadata": {
    "collapsed": false,
    "slideshow": {
     "slide_type": "skip"
    }
   },
   "outputs": [
    {
     "data": {
      "text/plain": [
       "[<matplotlib.lines.Line2D at 0x7fa8df962050>]"
      ]
     },
     "execution_count": 37,
     "metadata": {},
     "output_type": "execute_result"
    },
    {
     "data": {
      "image/png": "[encoded data removed]",
      "text/plain": [
       "<matplotlib.figure.Figure at 0x7fa8dc536650>"
      ]
     },
     "metadata": {},
     "output_type": "display_data"
    }
   ],
   "source": [
    "# %matplotlib qt\n",
    "plt.plot(pandas_df.CreationDate, pandas_df.NewAccounts)"
   ]
  },
  {
   "cell_type": "code",
   "execution_count": 38,
   "metadata": {
    "collapsed": false,
    "slideshow": {
     "slide_type": "slide"
    }
   },
   "outputs": [
    {
     "data": {
      "text/plain": [
       "[<matplotlib.lines.Line2D at 0x7fa8df8bd390>]"
      ]
     },
     "execution_count": 38,
     "metadata": {},
     "output_type": "execute_result"
    },
    {
     "data": {
      "image/png": "[encoded data removed]",
      "text/plain": [
       "<matplotlib.figure.Figure at 0x7fa8e08fefd0>"
      ]
     },
     "metadata": {},
     "output_type": "display_data"
    }
   ],
   "source": [
    "%matplotlib inline\n",
    "plt.plot(pandas_df.CreationDate, pandas_df.NewAccounts)"
   ]
  },
  {
   "cell_type": "markdown",
   "metadata": {
    "collapsed": false,
    "slideshow": {
     "slide_type": "fragment"
    }
   },
   "source": [
    "Interesting! We can see a spike in the initial data. If we zoom in, we see the date of the spike as 15th September,2008 when over 2000 new users joined StackOverflow. Flipping the pages of history, this was the day when StackOverflow was opened for public."
   ]
  }
 ],
 "metadata": {
  "celltoolbar": "Slideshow",
  "kernelspec": {
   "display_name": "Python 2",
   "language": "python",
   "name": "python2"
  },
  "language_info": {
   "codemirror_mode": {
    "name": "ipython",
    "version": 2
   },
   "file_extension": ".py",
   "mimetype": "text/x-python",
   "name": "python",
   "nbconvert_exporter": "python",
   "pygments_lexer": "ipython2",
   "version": "2.7.6"
  }
 },
 "nbformat": 4,
 "nbformat_minor": 0
}
